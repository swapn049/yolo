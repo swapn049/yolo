{
 "cells": [
  {
   "cell_type": "code",
   "execution_count": 2,
   "id": "044e208f",
   "metadata": {},
   "outputs": [
    {
     "name": "stdout",
     "output_type": "stream",
     "text": [
      "Collecting opencv-python\n",
      "  Using cached opencv_python-4.10.0.84-cp38-cp38-macosx_10_16_x86_64.whl\n",
      "Collecting onnxruntime\n",
      "  Downloading onnxruntime-1.16.3-cp38-cp38-macosx_10_15_x86_64.whl (7.1 MB)\n",
      "\u001b[K     |████████████████████████████████| 7.1 MB 3.6 MB/s eta 0:00:01\n",
      "\u001b[?25hRequirement already satisfied: numpy>=1.17.0 in /opt/anaconda3/envs/test/lib/python3.8/site-packages (from opencv-python) (1.20.2)\n",
      "Requirement already satisfied: packaging in /opt/anaconda3/envs/test/lib/python3.8/site-packages (from onnxruntime) (20.9)\n",
      "Collecting numpy>=1.17.3\n",
      "  Using cached numpy-1.24.4-cp38-cp38-macosx_10_9_x86_64.whl (19.8 MB)\n",
      "Collecting coloredlogs\n",
      "  Downloading coloredlogs-15.0.1-py2.py3-none-any.whl (46 kB)\n",
      "\u001b[K     |████████████████████████████████| 46 kB 16.9 MB/s eta 0:00:01\n",
      "\u001b[?25hCollecting flatbuffers\n",
      "  Downloading flatbuffers-24.3.25-py2.py3-none-any.whl (26 kB)\n",
      "Collecting protobuf\n",
      "  Downloading protobuf-5.27.1-cp38-abi3-macosx_10_9_universal2.whl (412 kB)\n",
      "\u001b[K     |████████████████████████████████| 412 kB 26.7 MB/s eta 0:00:01\n",
      "\u001b[?25hCollecting sympy\n",
      "  Downloading sympy-1.12.1-py3-none-any.whl (5.7 MB)\n",
      "\u001b[K     |████████████████████████████████| 5.7 MB 40.1 MB/s eta 0:00:01     |██████████                      | 1.8 MB 40.1 MB/s eta 0:00:01\n",
      "\u001b[?25hCollecting humanfriendly>=9.1\n",
      "  Downloading humanfriendly-10.0-py2.py3-none-any.whl (86 kB)\n",
      "\u001b[K     |████████████████████████████████| 86 kB 42.1 MB/s  eta 0:00:01\n",
      "\u001b[?25hRequirement already satisfied: pyparsing>=2.0.2 in /opt/anaconda3/envs/test/lib/python3.8/site-packages (from packaging->onnxruntime) (2.4.7)\n",
      "Collecting mpmath<1.4.0,>=1.1.0\n",
      "  Downloading mpmath-1.3.0-py3-none-any.whl (536 kB)\n",
      "\u001b[K     |████████████████████████████████| 536 kB 27.5 MB/s eta 0:00:01\n",
      "\u001b[?25hInstalling collected packages: mpmath, humanfriendly, sympy, protobuf, numpy, flatbuffers, coloredlogs, opencv-python, onnxruntime\n",
      "  Attempting uninstall: numpy\n",
      "    Found existing installation: numpy 1.20.2\n",
      "    Uninstalling numpy-1.20.2:\n",
      "      Successfully uninstalled numpy-1.20.2\n",
      "\u001b[31mERROR: pip's dependency resolver does not currently take into account all the packages that are installed. This behaviour is the source of the following dependency conflicts.\n",
      "scipy 1.6.2 requires numpy<1.23.0,>=1.16.5, but you have numpy 1.24.4 which is incompatible.\u001b[0m\n",
      "Successfully installed coloredlogs-15.0.1 flatbuffers-24.3.25 humanfriendly-10.0 mpmath-1.3.0 numpy-1.24.4 onnxruntime-1.16.3 opencv-python-4.10.0.84 protobuf-5.27.1 sympy-1.12.1\n"
     ]
    }
   ],
   "source": [
    "# !pip install opencv-python onnxruntime\n"
   ]
  },
  {
   "cell_type": "code",
   "execution_count": null,
   "id": "39e943ac",
   "metadata": {},
   "outputs": [],
   "source": []
  },
  {
   "cell_type": "code",
   "execution_count": 1,
   "id": "241522c6",
   "metadata": {},
   "outputs": [
    {
     "ename": "ModuleNotFoundError",
     "evalue": "No module named 'onnxruntime'",
     "output_type": "error",
     "traceback": [
      "\u001b[0;31m---------------------------------------------------------------------------\u001b[0m",
      "\u001b[0;31mModuleNotFoundError\u001b[0m                       Traceback (most recent call last)",
      "\u001b[0;32m<ipython-input-1-5f57d6f9ad01>\u001b[0m in \u001b[0;36m<module>\u001b[0;34m\u001b[0m\n\u001b[1;32m      1\u001b[0m \u001b[0;32mimport\u001b[0m \u001b[0mcv2\u001b[0m\u001b[0;34m\u001b[0m\u001b[0;34m\u001b[0m\u001b[0m\n\u001b[0;32m----> 2\u001b[0;31m \u001b[0;32mimport\u001b[0m \u001b[0monnxruntime\u001b[0m \u001b[0;32mas\u001b[0m \u001b[0mort\u001b[0m\u001b[0;34m\u001b[0m\u001b[0;34m\u001b[0m\u001b[0m\n\u001b[0m\u001b[1;32m      3\u001b[0m \u001b[0;32mimport\u001b[0m \u001b[0mnumpy\u001b[0m \u001b[0;32mas\u001b[0m \u001b[0mnp\u001b[0m\u001b[0;34m\u001b[0m\u001b[0;34m\u001b[0m\u001b[0m\n\u001b[1;32m      4\u001b[0m \u001b[0;34m\u001b[0m\u001b[0m\n\u001b[1;32m      5\u001b[0m \u001b[0;32mdef\u001b[0m \u001b[0mpreprocess\u001b[0m\u001b[0;34m(\u001b[0m\u001b[0mframe\u001b[0m\u001b[0;34m)\u001b[0m\u001b[0;34m:\u001b[0m\u001b[0;34m\u001b[0m\u001b[0;34m\u001b[0m\u001b[0m\n",
      "\u001b[0;31mModuleNotFoundError\u001b[0m: No module named 'onnxruntime'"
     ]
    }
   ],
   "source": [
    "import cv2\n",
    "import onnxruntime as ort\n",
    "import numpy as np\n",
    "\n",
    "def preprocess(frame):\n",
    "    # Resize the frame to fit the model input dimensions and normalize\n",
    "    # Modify the dimensions (320, 320) as per your model's requirement\n",
    "    frame_resized = cv2.resize(frame, (320, 320))\n",
    "    frame_normalized = frame_resized.astype(np.float32) / 255.0\n",
    "    # Convert the frame to batch format [BxCxHxW]\n",
    "    frame_input = np.transpose(frame_normalized, (2, 0, 1))\n",
    "    frame_input = np.expand_dims(frame_input, axis=0)\n",
    "    return frame_input\n",
    "\n",
    "def postprocess(frame, outputs, threshold=0.5):\n",
    "    # Outputs typically include boxes, scores, and labels\n",
    "    # Adjust the output parsing depending on your model's output\n",
    "    for detection in outputs[0][0]:  # Adjust indices depending on the model output shape\n",
    "        conf = detection[2]\n",
    "        if conf >= threshold:\n",
    "            class_id = int(detection[1])\n",
    "            box_x = int(detection[3] * frame.shape[1])\n",
    "            box_y = int(detection[4] * frame.shape[0])\n",
    "            box_w = int(detection[5] * frame.shape[1] - box_x)\n",
    "            box_h = int(detection[6] * frame.shape[0] - box_y)\n",
    "            cv2.rectangle(frame, (box_x, box_y), (box_x + box_w, box_y + box_h), (255, 0, 0), 2)\n",
    "            label = f\"Class {class_id}: {conf:.2f}\"\n",
    "            cv2.putText(frame, label, (box_x, box_y - 10), cv2.FONT_HERSHEY_SIMPLEX, 0.5, (255, 0, 0), 2)\n",
    "    return frame\n",
    "\n",
    "def main():\n",
    "    # Load ONNX model\n",
    "    session = ort.InferenceSession(\"best.onnx\")\n",
    "    input_name = session.get_inputs()[0].name\n",
    "\n",
    "    # Start webcam\n",
    "    cap = cv2.VideoCapture(0)\n",
    "    if not cap.isOpened():\n",
    "        print(\"Cannot open camera\")\n",
    "        exit()\n",
    "\n",
    "    while True:\n",
    "        # Capture frame-by-frame\n",
    "        ret, frame = cap.read()\n",
    "        if not ret:\n",
    "            print(\"Can't receive frame (stream end?). Exiting ...\")\n",
    "            break\n",
    "\n",
    "        # Preprocess the frame\n",
    "        frame_input = preprocess(frame)\n",
    "\n",
    "        # Compute\n",
    "        outputs = session.run(None, {input_name: frame_input})\n",
    "\n",
    "        # Postprocess and display the frame\n",
    "        frame_display = postprocess(frame, outputs)\n",
    "        cv2.imshow('Object Detection', frame_display)\n",
    "\n",
    "        if cv2.waitKey(1) == ord('q'):\n",
    "            break\n",
    "\n",
    "    # When everything done, release the capture\n",
    "    cap.release()\n",
    "    cv2.destroyAllWindows()\n",
    "\n",
    "if __name__ == \"__main__\":\n",
    "    main()"
   ]
  },
  {
   "cell_type": "code",
   "execution_count": null,
   "id": "4021d9be",
   "metadata": {},
   "outputs": [],
   "source": []
  }
 ],
 "metadata": {
  "kernelspec": {
   "display_name": "Python 3",
   "language": "python",
   "name": "python3"
  },
  "language_info": {
   "codemirror_mode": {
    "name": "ipython",
    "version": 3
   },
   "file_extension": ".py",
   "mimetype": "text/x-python",
   "name": "python",
   "nbconvert_exporter": "python",
   "pygments_lexer": "ipython3",
   "version": "3.8.8"
  }
 },
 "nbformat": 4,
 "nbformat_minor": 5
}
