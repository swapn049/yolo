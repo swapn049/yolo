{
 "cells": [
  {
   "cell_type": "code",
   "execution_count": null,
   "metadata": {
    "id": "uHXUIvWzXb2M"
   },
   "outputs": [],
   "source": []
  },
  {
   "cell_type": "code",
   "execution_count": null,
   "metadata": {},
   "outputs": [],
   "source": []
  },
  {
   "cell_type": "code",
   "execution_count": null,
   "metadata": {},
   "outputs": [],
   "source": []
  },
  {
   "cell_type": "code",
   "execution_count": null,
   "metadata": {
    "colab": {
     "base_uri": "https://localhost:8080/"
    },
    "executionInfo": {
     "elapsed": 247,
     "status": "ok",
     "timestamp": 1719340044413,
     "user": {
      "displayName": "Swapn Shah",
      "userId": "01645635488945056971"
     },
     "user_tz": 420
    },
    "id": "Dc6qIbAxdYMd",
    "outputId": "ed927eb5-4d6b-44f4-8e9a-141fd59f3b3e"
   },
   "outputs": [],
   "source": []
  },
  {
   "cell_type": "code",
   "execution_count": 5,
   "metadata": {
    "executionInfo": {
     "elapsed": 219,
     "status": "ok",
     "timestamp": 1719340046740,
     "user": {
      "displayName": "Swapn Shah",
      "userId": "01645635488945056971"
     },
     "user_tz": 420
    },
    "id": "oiyYbp-idZ9T"
   },
   "outputs": [],
   "source": [
    "# !git clone https://github.com/ultralytics/yolov8.git"
   ]
  },
  {
   "cell_type": "code",
   "execution_count": 4,
   "metadata": {
    "colab": {
     "base_uri": "https://localhost:8080/"
    },
    "executionInfo": {
     "elapsed": 399,
     "status": "ok",
     "timestamp": 1719340048154,
     "user": {
      "displayName": "Swapn Shah",
      "userId": "01645635488945056971"
     },
     "user_tz": 420
    },
    "id": "7dZNzJ1MeRs9",
    "outputId": "3dde3d72-7afe-4c0b-94e4-5faf6d9dabb7"
   },
   "outputs": [],
   "source": []
  },
  {
   "cell_type": "code",
   "execution_count": null,
   "metadata": {},
   "outputs": [],
   "source": []
  },
  {
   "cell_type": "code",
   "execution_count": 17,
   "metadata": {
    "colab": {
     "base_uri": "https://localhost:8080/"
    },
    "executionInfo": {
     "elapsed": 171,
     "status": "ok",
     "timestamp": 1719340052834,
     "user": {
      "displayName": "Swapn Shah",
      "userId": "01645635488945056971"
     },
     "user_tz": 420
    },
    "id": "IR1K4c3_ehQw",
    "outputId": "48f3dbea-c5a7-46aa-8efa-b08ae006fb64"
   },
   "outputs": [],
   "source": [
    "# model.train(data = \"data.yaml\", epochs=50, device=\"mps\", workers=4, imgsz=640, batch=8, task=\"detect\")"
   ]
  },
  {
   "cell_type": "code",
   "execution_count": null,
   "metadata": {
    "executionInfo": {
     "elapsed": 223,
     "status": "ok",
     "timestamp": 1719340056666,
     "user": {
      "displayName": "Swapn Shah",
      "userId": "01645635488945056971"
     },
     "user_tz": 420
    },
    "id": "6QnuV5BA0vpS"
   },
   "outputs": [],
   "source": []
  },
  {
   "cell_type": "code",
   "execution_count": null,
   "metadata": {},
   "outputs": [],
   "source": []
  },
  {
   "cell_type": "code",
   "execution_count": 11,
   "metadata": {},
   "outputs": [],
   "source": [
    "# model.export(format=\"onnx\", simplify=True, imgsz=640)"
   ]
  },
  {
   "cell_type": "code",
   "execution_count": null,
   "metadata": {},
   "outputs": [],
   "source": []
  },
  {
   "cell_type": "code",
   "execution_count": 18,
   "metadata": {},
   "outputs": [],
   "source": [
    "# import torch\n",
    "# torch.backends.mps.is_available()"
   ]
  },
  {
   "cell_type": "code",
   "execution_count": null,
   "metadata": {
    "colab": {
     "base_uri": "https://localhost:8080/"
    },
    "id": "FUKRtBDinnYU",
    "outputId": "c7fb1746-a3de-4cbd-de6f-f175bc870790"
   },
   "outputs": [],
   "source": [
    "# !python train.py --device mps --data data.yaml --cfg yolov5s.yaml --batch-size=8 --name Model --epochs=500"
   ]
  },
  {
   "cell_type": "code",
   "execution_count": null,
   "metadata": {},
   "outputs": [],
   "source": []
  },
  {
   "cell_type": "code",
   "execution_count": null,
   "metadata": {},
   "outputs": [],
   "source": []
  },
  {
   "cell_type": "code",
   "execution_count": null,
   "metadata": {
    "id": "uiR3VPvthcSg"
   },
   "outputs": [],
   "source": []
  },
  {
   "cell_type": "code",
   "execution_count": null,
   "metadata": {
    "id": "dBcB3MFplY0q"
   },
   "outputs": [],
   "source": []
  },
  {
   "cell_type": "code",
   "execution_count": 26,
   "metadata": {},
   "outputs": [
    {
     "ename": "NameError",
     "evalue": "name 'model' is not defined",
     "output_type": "error",
     "traceback": [
      "\u001b[0;31m---------------------------------------------------------------------------\u001b[0m",
      "\u001b[0;31mNameError\u001b[0m                                 Traceback (most recent call last)",
      "Cell \u001b[0;32mIn[26], line 1\u001b[0m\n\u001b[0;32m----> 1\u001b[0m result \u001b[38;5;241m=\u001b[39m \u001b[43mmodel\u001b[49m(\u001b[38;5;124m\"\u001b[39m\u001b[38;5;124m/Users/skshah/yolo/images/test/maksssksksss148.png\u001b[39m\u001b[38;5;124m\"\u001b[39m)\n",
      "\u001b[0;31mNameError\u001b[0m: name 'model' is not defined"
     ]
    }
   ],
   "source": [
    "result = model(\"/Users/skshah/yolo/images/train/maksssksksss659.png\")"
   ]
  },
  {
   "cell_type": "code",
   "execution_count": 13,
   "metadata": {},
   "outputs": [],
   "source": [
    "# model.predict(\"/Users/skshah/yolo/images/test/maksssksksss148.png\")"
   ]
  },
  {
   "cell_type": "code",
   "execution_count": 4,
   "metadata": {},
   "outputs": [
    {
     "name": "stdout",
     "output_type": "stream",
     "text": [
      "\n",
      "0: 640x512 1 with_mask, 94.0ms\n",
      "Speed: 8.4ms preprocess, 94.0ms inference, 8.3ms postprocess per image at shape (1, 3, 640, 512)\n"
     ]
    },
    {
     "data": {
      "text/plain": [
       "True"
      ]
     },
     "execution_count": 4,
     "metadata": {},
     "output_type": "execute_result"
    }
   ],
   "source": [
    "import cv2\n",
    "import numpy as np\n",
    "import torch\n",
    "from ultralytics import YOLO\n",
    "\n",
    "# Define paths\n",
    "model_path = '/Users/skshah/yolo/runs/detect/train14/weights/best.pt'\n",
    "image_path = '/Users/skshah/yolo/images/train/maksssksksss659.png'\n",
    "\n",
    "# Load the image\n",
    "img = cv2.imread(image_path)\n",
    "H, W, _ = img.shape\n",
    "\n",
    "# Load the YOLOv8n model\n",
    "model = YOLO(model_path)\n",
    "\n",
    "results = model.predict(img)\n",
    "\n",
    "# Iterate through the results and draw bounding boxes\n",
    "for result in results:\n",
    "    boxes = result.boxes\n",
    "    for box in boxes:\n",
    "        x1, y1, x2, y2 = map(int, box.xyxy[0].tolist())  # Convert tensor to list and then map to int\n",
    "        cv2.rectangle(img, (x1, y1), (x2, y2), (0, 255, 0), 2)\n",
    "        label = f\"{int(box.cls)} {box.conf.item():.2f}\"  # Convert tensor to scalar\n",
    "        cv2.putText(img, label, (x1, y1 - 10), cv2.FONT_HERSHEY_SIMPLEX, 0.5, (0, 255, 0), 2)\n",
    "\n",
    "# Save the output\n",
    "output_path = './output_bboxes.png'\n",
    "cv2.imwrite(output_path, img)\n"
   ]
  },
  {
   "cell_type": "code",
   "execution_count": null,
   "metadata": {},
   "outputs": [],
   "source": []
  },
  {
   "cell_type": "code",
   "execution_count": null,
   "metadata": {},
   "outputs": [],
   "source": []
  },
  {
   "cell_type": "code",
   "execution_count": 1,
   "metadata": {},
   "outputs": [
    {
     "name": "stderr",
     "output_type": "stream",
     "text": [
      "/Users/skshah/yolo/ultralytics/ultralytics/nn/tasks.py:781: FutureWarning: You are using `torch.load` with `weights_only=False` (the current default value), which uses the default pickle module implicitly. It is possible to construct malicious pickle data which will execute arbitrary code during unpickling (See https://github.com/pytorch/pytorch/blob/main/SECURITY.md#untrusted-models for more details). In a future release, the default value for `weights_only` will be flipped to `True`. This limits the functions that could be executed during unpickling. Arbitrary objects will no longer be allowed to be loaded via this mode unless they are explicitly allowlisted by the user via `torch.serialization.add_safe_globals`. We recommend you start setting `weights_only=True` for any use case where you don't have full control of the loaded file. Please open an issue on GitHub for any issues related to this experimental feature.\n",
      "  ckpt = torch.load(file, map_location=\"cpu\")\n"
     ]
    },
    {
     "name": "stdout",
     "output_type": "stream",
     "text": [
      "\n",
      "0: 320x256 (no detections), 18.6ms\n",
      "Speed: 1.1ms preprocess, 18.6ms inference, 0.2ms postprocess per image at shape (1, 3, 320, 256)\n",
      "No detections\n"
     ]
    }
   ],
   "source": [
    "# import cv2\n",
    "# import numpy as np\n",
    "# import torch\n",
    "# from ultralytics import YOLO\n",
    "\n",
    "# # Define paths\n",
    "# model_path = '/Users/skshah/yolo/runs/detect/train14/weights/best.pt'\n",
    "# image_path = '/Users/skshah/yolo/images/train/maksssksksss659.png'\n",
    "\n",
    "# # Load the image\n",
    "# img = cv2.imread(image_path)\n",
    "# H, W, _ = img.shape\n",
    "\n",
    "# # Load the YOLOv8n model\n",
    "# model = YOLO(model_path)\n",
    "\n",
    "# results = model.predict(img)\n",
    "\n",
    "# # Iterate through the results and draw bounding boxes\n",
    "# for result in results:\n",
    "#     boxes = result.boxes\n",
    "#     for box in boxes:\n",
    "#         x1, y1, x2, y2 = map(int, box.xyxy[0].tolist())  # Convert tensor to list and then map to int\n",
    "#         cv2.rectangle(img, (x1, y1), (x2, y2), (0, 255, 0), 2)\n",
    "#         label = f\"{int(box.cls)} {box.conf.item():.2f}\"  # Convert tensor to scalar\n",
    "#         cv2.putText(img, label, (x1, y1 - 10), cv2.FONT_HERSHEY_SIMPLEX, 0.5, (0, 255, 0), 2)\n",
    "\n",
    "# # Save the output\n",
    "# output_path = './output_bboxes.png'\n",
    "# cv2.imwrite(output_path, img)"
   ]
  },
  {
   "cell_type": "code",
   "execution_count": null,
   "metadata": {},
   "outputs": [],
   "source": []
  },
  {
   "cell_type": "code",
   "execution_count": null,
   "metadata": {},
   "outputs": [],
   "source": []
  },
  {
   "cell_type": "code",
   "execution_count": null,
   "metadata": {},
   "outputs": [],
   "source": []
  }
 ],
 "metadata": {
  "accelerator": "GPU",
  "colab": {
   "authorship_tag": "ABX9TyOWhZFvnLI6Wq/1uPueUq8y",
   "gpuType": "T4",
   "mount_file_id": "1Kfw-0chR3VJuMeT-8qSGxm7qWIZyBp9K",
   "provenance": []
  },
  "interpreter": {
   "hash": "57859214164bd11bf9a078921f13a75561d75bb63139b6128ecf2e8b00d8965d"
  },
  "kernelspec": {
   "display_name": "Python 3.8.16",
   "language": "python",
   "name": "python3"
  },
  "language_info": {
   "codemirror_mode": {
    "name": "ipython",
    "version": 3
   },
   "file_extension": ".py",
   "mimetype": "text/x-python",
   "name": "python",
   "nbconvert_exporter": "python",
   "pygments_lexer": "ipython3",
   "version": "3.8.16"
  }
 },
 "nbformat": 4,
 "nbformat_minor": 4
}
